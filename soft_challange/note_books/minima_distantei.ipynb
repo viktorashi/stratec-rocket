{
 "cells": [
  {
   "cell_type": "code",
   "id": "initial_id",
   "metadata": {
    "collapsed": true,
    "ExecuteTime": {
     "end_time": "2025-03-16T19:16:30.705720Z",
     "start_time": "2025-03-16T19:16:29.724635Z"
    }
   },
   "source": [
    "from sympy import Symbol, solve, Derivative\n",
    "x = Symbol('x')\n",
    "f = x**5 - 30*x**3 + 50*x\n",
    "d1 = Derivative(f, x).doit()\n",
    "critical_points = solve(d1)\n",
    "critical_points\n"
   ],
   "outputs": [
    {
     "data": {
      "text/plain": [
       "[-sqrt(9 - sqrt(71)),\n",
       " sqrt(9 - sqrt(71)),\n",
       " -sqrt(sqrt(71) + 9),\n",
       " sqrt(sqrt(71) + 9)]"
      ]
     },
     "execution_count": 1,
     "metadata": {},
     "output_type": "execute_result"
    }
   ],
   "execution_count": 1
  },
  {
   "metadata": {
    "ExecuteTime": {
     "end_time": "2025-03-17T10:58:38.977862Z",
     "start_time": "2025-03-17T10:58:37.971056Z"
    }
   },
   "cell_type": "code",
   "source": [
    "import numpy as np\n",
    "from scipy.optimize import root_scalar\n",
    "\n",
    "# Define the function to find T\n",
    "def equation(T, v, a, Rd, Rs, theta_d0, omega_d, theta_s):\n",
    "    lhs = v*T - v**2/a\n",
    "    rhs = np.sqrt((Rd*np.cos(theta_d0 - omega_d*T) - Rs*np.cos(theta_s))**2 +\n",
    "                  (Rd*np.sin(theta_d0 - omega_d*T) - Rs*np.sin(theta_s))**2)\n",
    "    return lhs - rhs\n",
    "\n",
    "# Define parameter values (replace with actual values)\n",
    "v = 10  # Example velocity\n",
    "a = 5   # Example acceleration\n",
    "Rd = 20\n",
    "Rs = 15\n",
    "theta_d0 = 1.2  # In radians\n",
    "omega_d = 0.5\n",
    "theta_s = 0.8\n",
    "\n",
    "# Solve numerically in a reasonable range (e.g., looking for T > 0)\n",
    "sol = root_scalar(equation, args=(v, a, Rd, Rs, theta_d0, omega_d, theta_s), bracket=[0, 100])\n",
    "\n",
    "# Print the solution\n",
    "if sol.converged:\n",
    "    print(f\"Solution for T: {sol.root}\")\n",
    "else:\n",
    "    print(\"No solution found!\")"
   ],
   "id": "d2c5cdf563e4cfb2",
   "outputs": [
    {
     "name": "stdout",
     "output_type": "stream",
     "text": [
      "Solution for T: 5.079275520426459\n"
     ]
    }
   ],
   "execution_count": 2
  },
  {
   "metadata": {
    "ExecuteTime": {
     "end_time": "2025-03-17T10:58:56.913857Z",
     "start_time": "2025-03-17T10:58:56.906566Z"
    }
   },
   "cell_type": "code",
   "source": "type(sol.root)\n",
   "id": "21ea920705b74",
   "outputs": [
    {
     "data": {
      "text/plain": [
       "float"
      ]
     },
     "execution_count": 3,
     "metadata": {},
     "output_type": "execute_result"
    }
   ],
   "execution_count": 3
  }
 ],
 "metadata": {
  "kernelspec": {
   "display_name": "Python 3",
   "language": "python",
   "name": "python3"
  },
  "language_info": {
   "codemirror_mode": {
    "name": "ipython",
    "version": 2
   },
   "file_extension": ".py",
   "mimetype": "text/x-python",
   "name": "python",
   "nbconvert_exporter": "python",
   "pygments_lexer": "ipython2",
   "version": "2.7.6"
  }
 },
 "nbformat": 4,
 "nbformat_minor": 5
}
